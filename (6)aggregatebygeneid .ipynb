{
 "cells": [
  {
   "cell_type": "code",
   "execution_count": null,
   "metadata": {},
   "outputs": [],
   "source": [
    "import pandas as pd \n"
   ]
  },
  {
   "cell_type": "code",
   "execution_count": null,
   "metadata": {},
   "outputs": [],
   "source": [
    "df = pd.read_csv(\"filtered_data.csv\")"
   ]
  },
  {
   "cell_type": "code",
   "execution_count": null,
   "metadata": {},
   "outputs": [],
   "source": [
    "groups = df.groupby(\"gene_id\")"
   ]
  },
  {
   "cell_type": "code",
   "execution_count": null,
   "metadata": {},
   "outputs": [],
   "source": [
    "new_df_row = []\n",
    "\n",
    "for key, group in groups:\n",
    "    new_row = {}\n",
    "    for row in group.to_dict('records'):\n",
    "        if len(new_row) == 0:\n",
    "            new_row = row\n",
    "        else:\n",
    "            for key in row.keys():\n",
    "                if row[key] == new_row[key]: continue\n",
    "                else:\n",
    "                    if (new_row[key] != new_row[key]) and (row[key] == row[key]):\n",
    "                        new_row[key] = row[key]\n",
    "                    else: \n",
    "                        print(row)\n",
    "                        print(new_row)\n",
    "    new_df_row.append(new_row)\n",
    "new_df = pd.DataFrame(new_df_row)\n"
   ]
  }
 ],
 "metadata": {
  "kernelspec": {
   "display_name": "Python 3",
   "language": "python",
   "name": "python3"
  },
  "language_info": {
   "codemirror_mode": {
    "name": "ipython",
    "version": 3
   },
   "file_extension": ".py",
   "mimetype": "text/x-python",
   "name": "python",
   "nbconvert_exporter": "python",
   "pygments_lexer": "ipython3",
   "version": "3.6.5"
  }
 },
 "nbformat": 4,
 "nbformat_minor": 2
}
